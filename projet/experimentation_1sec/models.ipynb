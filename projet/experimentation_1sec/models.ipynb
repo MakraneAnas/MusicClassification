{
 "cells": [
  {
   "cell_type": "code",
   "execution_count": 1,
   "metadata": {},
   "outputs": [],
   "source": [
    "import numpy as np\n",
    "import pandas as pd\n",
    "from sklearn.model_selection import train_test_split, cross_val_score\n",
    "from sklearn.preprocessing import RobustScaler\n",
    "from sklearn.metrics import classification_report, confusion_matrix\n",
    "import seaborn as sns"
   ]
  },
  {
   "cell_type": "markdown",
   "metadata": {},
   "source": [
    "# Training the models with all the features"
   ]
  },
  {
   "cell_type": "code",
   "execution_count": 2,
   "metadata": {},
   "outputs": [],
   "source": [
    "df = pd.read_csv('music_features_scaled.csv')\n",
    "X = df.drop(columns=['genre', 'filename', 'second'])\n",
    "Y = df['genre']\n",
    "\n",
    "X_train, X_test, Y_train, Y_test = train_test_split(X, Y, test_size=0.2, random_state=42)"
   ]
  },
  {
   "cell_type": "code",
   "execution_count": 3,
   "metadata": {},
   "outputs": [
    {
     "name": "stdout",
     "output_type": "stream",
     "text": [
      "(23968, 49)\n",
      "(5993, 49)\n"
     ]
    }
   ],
   "source": [
    "# sizes of X_train and X_test\n",
    "print(X_train.shape)\n",
    "print(X_test.shape)"
   ]
  },
  {
   "cell_type": "markdown",
   "metadata": {},
   "source": [
    "### Random Forest"
   ]
  },
  {
   "cell_type": "code",
   "execution_count": 5,
   "metadata": {},
   "outputs": [
    {
     "name": "stdout",
     "output_type": "stream",
     "text": [
      "Random Forest Results:\n",
      "              precision    recall  f1-score   support\n",
      "\n",
      "       blues       0.76      0.85      0.80       568\n",
      "   classical       0.88      0.97      0.92       612\n",
      "     country       0.73      0.70      0.71       601\n",
      "       disco       0.73      0.72      0.72       587\n",
      "      hiphop       0.82      0.70      0.76       637\n",
      "        jazz       0.80      0.84      0.82       566\n",
      "       metal       0.83      0.93      0.88       599\n",
      "         pop       0.80      0.86      0.83       595\n",
      "      reggae       0.76      0.77      0.77       630\n",
      "        rock       0.76      0.57      0.65       598\n",
      "\n",
      "    accuracy                           0.79      5993\n",
      "   macro avg       0.79      0.79      0.79      5993\n",
      "weighted avg       0.79      0.79      0.79      5993\n",
      "\n"
     ]
    }
   ],
   "source": [
    "from sklearn.ensemble import RandomForestClassifier\n",
    "\n",
    "rf_model = RandomForestClassifier(n_estimators=600, random_state=42)\n",
    "rf_model.fit(X_train, Y_train)\n",
    "rf_pred = rf_model.predict(X_test)\n",
    "\n",
    "print(\"Random Forest Results:\")\n",
    "print(classification_report(Y_test, rf_pred))"
   ]
  },
  {
   "cell_type": "code",
   "execution_count": null,
   "metadata": {},
   "outputs": [],
   "source": [
    "# grid search for best parameters for random forest\n",
    "from sklearn.model_selection import GridSearchCV\n",
    "\n",
    "param_grid = {\n",
    "    'n_estimators': [100, 200, 300, 400],\n",
    "    'max_features': ['auto', 'sqrt', 'log2', None],\n",
    "    'max_depth': [10, 20, 30, 40],\n",
    "    'min_samples_split': [2, 5, 10],\n",
    "    'min_samples_leaf': [1, 2, 4],\n",
    "    'bootstrap': [True, False]\n",
    "}\n",
    "\n",
    "grid_search = GridSearchCV(estimator=rf_model, param_grid=param_grid, cv=3, n_jobs=-1, verbose=2)\n",
    "grid_search.fit(X_train, Y_train)\n",
    "\n",
    "print(\"Best parameters for Random Forest:\")\n",
    "print(grid_search.best_params_)\n",
    "print(\"Best score for Random Forest:\")\n",
    "print(grid_search.best_score_)\n",
    "print(\"Best estimator for Random Forest:\")\n",
    "print(grid_search.best_estimator_)"
   ]
  },
  {
   "cell_type": "markdown",
   "metadata": {},
   "source": [
    "Enable to run GridSearch<br>\n",
    "Run it for 580 min (~10h) with no results<br>\n",
    "Used best parameters found using the 30s audios"
   ]
  },
  {
   "cell_type": "code",
   "execution_count": 7,
   "metadata": {},
   "outputs": [
    {
     "name": "stdout",
     "output_type": "stream",
     "text": [
      "Random Forest Best Results:\n",
      "              precision    recall  f1-score   support\n",
      "\n",
      "       blues       0.71      0.80      0.75       568\n",
      "   classical       0.86      0.95      0.91       612\n",
      "     country       0.62      0.57      0.59       601\n",
      "       disco       0.62      0.60      0.61       587\n",
      "      hiphop       0.74      0.61      0.67       637\n",
      "        jazz       0.72      0.76      0.74       566\n",
      "       metal       0.77      0.92      0.84       599\n",
      "         pop       0.71      0.82      0.77       595\n",
      "      reggae       0.65      0.70      0.68       630\n",
      "        rock       0.64      0.39      0.49       598\n",
      "\n",
      "    accuracy                           0.71      5993\n",
      "   macro avg       0.71      0.71      0.70      5993\n",
      "weighted avg       0.71      0.71      0.70      5993\n",
      "\n"
     ]
    }
   ],
   "source": [
    "# best random forest model\n",
    "\n",
    "rf_model_best = RandomForestClassifier(bootstrap=False, max_depth=10, n_estimators=400, min_samples_leaf=1, max_features='sqrt', min_samples_split=2,\n",
    "                       random_state=42)\n",
    "rf_model_best.fit(X_train, Y_train)\n",
    "rf_pred_best = rf_model_best.predict(X_test)\n",
    "\n",
    "print(\"Random Forest Best Results:\")\n",
    "print(classification_report(Y_test, rf_pred_best))"
   ]
  },
  {
   "cell_type": "markdown",
   "metadata": {},
   "source": [
    "### SVM"
   ]
  },
  {
   "cell_type": "code",
   "execution_count": 8,
   "metadata": {},
   "outputs": [
    {
     "name": "stdout",
     "output_type": "stream",
     "text": [
      "SVM Results:\n",
      "              precision    recall  f1-score   support\n",
      "\n",
      "       blues       0.71      0.78      0.74       568\n",
      "   classical       0.89      0.95      0.92       612\n",
      "     country       0.70      0.67      0.68       601\n",
      "       disco       0.66      0.67      0.66       587\n",
      "      hiphop       0.70      0.65      0.67       637\n",
      "        jazz       0.76      0.80      0.78       566\n",
      "       metal       0.82      0.90      0.86       599\n",
      "         pop       0.78      0.77      0.77       595\n",
      "      reggae       0.73      0.70      0.72       630\n",
      "        rock       0.62      0.54      0.58       598\n",
      "\n",
      "    accuracy                           0.74      5993\n",
      "   macro avg       0.74      0.74      0.74      5993\n",
      "weighted avg       0.74      0.74      0.74      5993\n",
      "\n"
     ]
    }
   ],
   "source": [
    "from sklearn.svm import SVC\n",
    "\n",
    "svm_model = SVC(kernel='rbf', random_state=42)\n",
    "svm_model.fit(X_train, Y_train)\n",
    "svm_pred = svm_model.predict(X_test)\n",
    "\n",
    "print(\"SVM Results:\")\n",
    "print(classification_report(Y_test, svm_pred))"
   ]
  },
  {
   "cell_type": "code",
   "execution_count": 9,
   "metadata": {},
   "outputs": [
    {
     "name": "stdout",
     "output_type": "stream",
     "text": [
      "SVM Results:\n",
      "              precision    recall  f1-score   support\n",
      "\n",
      "       blues       0.71      0.74      0.73       568\n",
      "   classical       0.89      0.91      0.90       612\n",
      "     country       0.60      0.64      0.62       601\n",
      "       disco       0.54      0.63      0.58       587\n",
      "      hiphop       0.72      0.56      0.63       637\n",
      "        jazz       0.73      0.74      0.73       566\n",
      "       metal       0.82      0.88      0.85       599\n",
      "         pop       0.82      0.72      0.77       595\n",
      "      reggae       0.74      0.57      0.64       630\n",
      "        rock       0.49      0.60      0.54       598\n",
      "\n",
      "    accuracy                           0.70      5993\n",
      "   macro avg       0.71      0.70      0.70      5993\n",
      "weighted avg       0.71      0.70      0.70      5993\n",
      "\n"
     ]
    }
   ],
   "source": [
    "svm_model = SVC(kernel='poly', random_state=42)\n",
    "svm_model.fit(X_train, Y_train)\n",
    "svm_pred = svm_model.predict(X_test)\n",
    "\n",
    "print(\"SVM Results:\")\n",
    "print(classification_report(Y_test, svm_pred))"
   ]
  },
  {
   "cell_type": "markdown",
   "metadata": {},
   "source": [
    "### XGBoost"
   ]
  },
  {
   "cell_type": "code",
   "execution_count": 10,
   "metadata": {},
   "outputs": [
    {
     "name": "stdout",
     "output_type": "stream",
     "text": [
      "XGBoost Results:\n",
      "              precision    recall  f1-score   support\n",
      "\n",
      "       blues       0.81      0.83      0.82       568\n",
      "   classical       0.90      0.96      0.93       612\n",
      "     country       0.74      0.76      0.75       601\n",
      "       disco       0.73      0.77      0.75       587\n",
      "      hiphop       0.83      0.73      0.78       637\n",
      "        jazz       0.81      0.82      0.82       566\n",
      "       metal       0.89      0.92      0.91       599\n",
      "         pop       0.86      0.84      0.85       595\n",
      "      reggae       0.78      0.78      0.78       630\n",
      "        rock       0.68      0.64      0.66       598\n",
      "\n",
      "    accuracy                           0.80      5993\n",
      "   macro avg       0.80      0.80      0.80      5993\n",
      "weighted avg       0.80      0.80      0.80      5993\n",
      "\n"
     ]
    }
   ],
   "source": [
    "from xgboost import XGBClassifier\n",
    "from sklearn.preprocessing import LabelEncoder\n",
    "import matplotlib.pyplot as plt\n",
    "\n",
    "# First encode the labels\n",
    "label_encoder = LabelEncoder()\n",
    "y_train_encoded = label_encoder.fit_transform(Y_train)\n",
    "y_test_encoded = label_encoder.transform(Y_test)\n",
    "\n",
    "# Now create and train the model\n",
    "xgb_model = XGBClassifier(random_state=42)\n",
    "xgb_model.fit(X_train, y_train_encoded)\n",
    "xgb_pred = xgb_model.predict(X_test)\n",
    "\n",
    "# Convert predictions back to genre names for the classification report\n",
    "xgb_pred_decoded = label_encoder.inverse_transform(xgb_pred)\n",
    "\n",
    "print(\"XGBoost Results:\")\n",
    "print(classification_report(Y_test, xgb_pred_decoded))\n"
   ]
  },
  {
   "cell_type": "markdown",
   "metadata": {},
   "source": [
    "# Training the models with the top features"
   ]
  },
  {
   "cell_type": "code",
   "execution_count": 12,
   "metadata": {},
   "outputs": [],
   "source": [
    "df_2 = pd.read_csv('music_features_scaled_top.csv')\n",
    "X = df_2.drop(columns=['genre'])\n",
    "Y = df_2['genre']\n",
    "\n",
    "X_train, X_test, Y_train, Y_test = train_test_split(X, Y, test_size=0.2, random_state=42)"
   ]
  },
  {
   "cell_type": "markdown",
   "metadata": {},
   "source": [
    "### Random Forest"
   ]
  },
  {
   "cell_type": "code",
   "execution_count": 13,
   "metadata": {},
   "outputs": [
    {
     "name": "stdout",
     "output_type": "stream",
     "text": [
      "Random Forest Results:\n",
      "              precision    recall  f1-score   support\n",
      "\n",
      "       blues       0.61      0.64      0.63       568\n",
      "   classical       0.85      0.91      0.88       612\n",
      "     country       0.54      0.53      0.53       601\n",
      "       disco       0.56      0.57      0.56       587\n",
      "      hiphop       0.70      0.65      0.67       637\n",
      "        jazz       0.63      0.70      0.66       566\n",
      "       metal       0.74      0.84      0.79       599\n",
      "         pop       0.75      0.71      0.73       595\n",
      "      reggae       0.65      0.64      0.64       630\n",
      "        rock       0.50      0.39      0.44       598\n",
      "\n",
      "    accuracy                           0.66      5993\n",
      "   macro avg       0.65      0.66      0.65      5993\n",
      "weighted avg       0.65      0.66      0.66      5993\n",
      "\n"
     ]
    }
   ],
   "source": [
    "rf_model_2 = RandomForestClassifier(n_estimators=600, random_state=42)\n",
    "rf_model_2.fit(X_train, Y_train)\n",
    "rf_pred = rf_model_2.predict(X_test)\n",
    "\n",
    "print(\"Random Forest Results:\")\n",
    "print(classification_report(Y_test, rf_pred))"
   ]
  },
  {
   "cell_type": "code",
   "execution_count": null,
   "metadata": {},
   "outputs": [],
   "source": [
    "param_grid = {\n",
    "    'n_estimators': [100, 200, 300, 400],\n",
    "    'max_features': ['auto', 'sqrt', 'log2', None],\n",
    "    'max_depth': [10, 20, 30, 40],\n",
    "    'min_samples_split': [2, 5, 10],\n",
    "    'min_samples_leaf': [1, 2, 4],\n",
    "    'bootstrap': [True, False]\n",
    "}\n",
    "\n",
    "grid_search = GridSearchCV(estimator=rf_model_2, param_grid=param_grid, cv=3, n_jobs=-1, verbose=2)\n",
    "grid_search.fit(X_train, Y_train)\n",
    "\n",
    "print(\"Best parameters for Random Forest:\")\n",
    "print(grid_search.best_params_)\n",
    "print(\"Best score for Random Forest:\")\n",
    "print(grid_search.best_score_)\n",
    "print(\"Best estimator for Random Forest:\")\n",
    "print(grid_search.best_estimator_)"
   ]
  },
  {
   "cell_type": "markdown",
   "metadata": {},
   "source": [
    "Enable to run GridSearch<br>\n",
    "Run it for 580 min (~10h) with no results<br>\n",
    "Used best parameters found using the 30s audios"
   ]
  },
  {
   "cell_type": "code",
   "execution_count": 16,
   "metadata": {},
   "outputs": [
    {
     "name": "stdout",
     "output_type": "stream",
     "text": [
      "Random Forest Best Results:\n",
      "              precision    recall  f1-score   support\n",
      "\n",
      "       blues       0.57      0.57      0.57       568\n",
      "   classical       0.81      0.87      0.84       612\n",
      "     country       0.46      0.43      0.44       601\n",
      "       disco       0.46      0.48      0.47       587\n",
      "      hiphop       0.62      0.59      0.61       637\n",
      "        jazz       0.58      0.62      0.60       566\n",
      "       metal       0.65      0.83      0.73       599\n",
      "         pop       0.72      0.66      0.69       595\n",
      "      reggae       0.59      0.57      0.58       630\n",
      "        rock       0.40      0.29      0.34       598\n",
      "\n",
      "    accuracy                           0.59      5993\n",
      "   macro avg       0.58      0.59      0.59      5993\n",
      "weighted avg       0.59      0.59      0.59      5993\n",
      "\n"
     ]
    }
   ],
   "source": [
    "# best random forest model\n",
    "\n",
    "rf_model_best_2 = RandomForestClassifier(bootstrap=True, max_depth=10, n_estimators=300, min_samples_leaf=2, max_features='sqrt', min_samples_split=5, random_state=42)\n",
    "\n",
    "rf_model_best_2.fit(X_train, Y_train)\n",
    "rf_pred_best = rf_model_best_2.predict(X_test)\n",
    "\n",
    "print(\"Random Forest Best Results:\")\n",
    "print(classification_report(Y_test, rf_pred_best))"
   ]
  },
  {
   "cell_type": "markdown",
   "metadata": {},
   "source": [
    "### SVM"
   ]
  },
  {
   "cell_type": "code",
   "execution_count": 17,
   "metadata": {},
   "outputs": [
    {
     "name": "stdout",
     "output_type": "stream",
     "text": [
      "SVM Results:\n",
      "              precision    recall  f1-score   support\n",
      "\n",
      "       blues       0.55      0.40      0.46       568\n",
      "   classical       0.84      0.87      0.86       612\n",
      "     country       0.49      0.28      0.35       601\n",
      "       disco       0.41      0.38      0.40       587\n",
      "      hiphop       0.64      0.43      0.52       637\n",
      "        jazz       0.59      0.46      0.52       566\n",
      "       metal       0.76      0.65      0.70       599\n",
      "         pop       0.78      0.61      0.69       595\n",
      "      reggae       0.63      0.39      0.48       630\n",
      "        rock       0.23      0.70      0.35       598\n",
      "\n",
      "    accuracy                           0.52      5993\n",
      "   macro avg       0.59      0.52      0.53      5993\n",
      "weighted avg       0.59      0.52      0.53      5993\n",
      "\n"
     ]
    }
   ],
   "source": [
    "svm_model_2 = SVC(kernel='poly', random_state=42)\n",
    "svm_model_2.fit(X_train, Y_train)\n",
    "svm_pred = svm_model_2.predict(X_test)\n",
    "\n",
    "print(\"SVM Results:\")\n",
    "print(classification_report(Y_test, svm_pred))"
   ]
  },
  {
   "cell_type": "markdown",
   "metadata": {},
   "source": [
    "### XGBoost"
   ]
  },
  {
   "cell_type": "code",
   "execution_count": 18,
   "metadata": {},
   "outputs": [
    {
     "name": "stdout",
     "output_type": "stream",
     "text": [
      "XGBoost Results:\n",
      "              precision    recall  f1-score   support\n",
      "\n",
      "       blues       0.60      0.64      0.62       568\n",
      "   classical       0.89      0.91      0.90       612\n",
      "     country       0.53      0.53      0.53       601\n",
      "       disco       0.54      0.57      0.55       587\n",
      "      hiphop       0.69      0.63      0.66       637\n",
      "        jazz       0.62      0.69      0.65       566\n",
      "       metal       0.75      0.83      0.79       599\n",
      "         pop       0.75      0.73      0.74       595\n",
      "      reggae       0.64      0.59      0.61       630\n",
      "        rock       0.46      0.38      0.42       598\n",
      "\n",
      "    accuracy                           0.65      5993\n",
      "   macro avg       0.65      0.65      0.65      5993\n",
      "weighted avg       0.65      0.65      0.65      5993\n",
      "\n"
     ]
    }
   ],
   "source": [
    "# xgboost\n",
    "y_train_encoded = label_encoder.fit_transform(Y_train)\n",
    "y_test_encoded = label_encoder.transform(Y_test)\n",
    "\n",
    "# Now create and train the model\n",
    "xgb_model_2 = XGBClassifier(random_state=42)\n",
    "xgb_model_2.fit(X_train, y_train_encoded)\n",
    "xgb_pred = xgb_model_2.predict(X_test)\n",
    "\n",
    "# Convert predictions back to genre names for the classification report\n",
    "xgb_pred_decoded = label_encoder.inverse_transform(xgb_pred)\n",
    "\n",
    "print(\"XGBoost Results:\")\n",
    "print(classification_report(Y_test, xgb_pred_decoded))"
   ]
  },
  {
   "cell_type": "markdown",
   "metadata": {},
   "source": [
    "### Stacking"
   ]
  },
  {
   "cell_type": "code",
   "execution_count": 19,
   "metadata": {},
   "outputs": [],
   "source": [
    "def plot_confusion_matrix(y_true, y_pred, model_name):\n",
    "    plt.figure(figsize=(10, 8))\n",
    "    cm = confusion_matrix(y_true, y_pred)\n",
    "    sns.heatmap(cm, annot=True, fmt='d', cmap='Blues',\n",
    "                xticklabels=np.unique(y), \n",
    "                yticklabels=np.unique(y))\n",
    "    plt.title(f'Confusion Matrix - {model_name}')\n",
    "    plt.xlabel('Predicted')\n",
    "    plt.ylabel('True')\n",
    "    plt.tight_layout()\n",
    "    plt.show()"
   ]
  },
  {
   "cell_type": "code",
   "execution_count": 20,
   "metadata": {},
   "outputs": [
    {
     "name": "stdout",
     "output_type": "stream",
     "text": [
      "Stacking Results:\n",
      "              precision    recall  f1-score   support\n",
      "\n",
      "       blues       0.60      0.64      0.62       568\n",
      "   classical       0.88      0.92      0.89       612\n",
      "     country       0.53      0.53      0.53       601\n",
      "       disco       0.53      0.56      0.54       587\n",
      "      hiphop       0.69      0.63      0.66       637\n",
      "        jazz       0.63      0.68      0.65       566\n",
      "       metal       0.76      0.82      0.79       599\n",
      "         pop       0.75      0.71      0.73       595\n",
      "      reggae       0.65      0.60      0.62       630\n",
      "        rock       0.43      0.39      0.41       598\n",
      "\n",
      "    accuracy                           0.65      5993\n",
      "   macro avg       0.64      0.65      0.65      5993\n",
      "weighted avg       0.65      0.65      0.65      5993\n",
      "\n",
      "\n",
      "Voting Results:\n",
      "              precision    recall  f1-score   support\n",
      "\n",
      "       blues       0.60      0.62      0.61       568\n",
      "   classical       0.85      0.91      0.88       612\n",
      "     country       0.51      0.50      0.51       601\n",
      "       disco       0.52      0.55      0.54       587\n",
      "      hiphop       0.67      0.61      0.64       637\n",
      "        jazz       0.60      0.67      0.63       566\n",
      "       metal       0.72      0.85      0.78       599\n",
      "         pop       0.75      0.72      0.73       595\n",
      "      reggae       0.63      0.60      0.61       630\n",
      "        rock       0.46      0.35      0.39       598\n",
      "\n",
      "    accuracy                           0.64      5993\n",
      "   macro avg       0.63      0.64      0.63      5993\n",
      "weighted avg       0.63      0.64      0.63      5993\n",
      "\n"
     ]
    },
    {
     "data": {
      "image/png": "[encoded data removed]",
      "text/plain": [
       "<Figure size 2000x800 with 4 Axes>"
      ]
     },
     "metadata": {},
     "output_type": "display_data"
    }
   ],
   "source": [
    "from sklearn.ensemble import VotingClassifier, StackingClassifier\n",
    "from sklearn.linear_model import LogisticRegression\n",
    "from sklearn.svm import SVC\n",
    "\n",
    "# Recreate the SVM model with probability=True\n",
    "svm_model_2 = SVC(probability=True, random_state=42)\n",
    "svm_model_2.fit(X_train, Y_train)\n",
    "\n",
    "# Create estimators list\n",
    "estimators = [\n",
    "    ('Random Forest', rf_model_best_2), \n",
    "    ('SVM', svm_model_2),\n",
    "    ('XGBoost', xgb_model_2)\n",
    "]\n",
    "\n",
    "# Create stacking classifier\n",
    "stacking = StackingClassifier(\n",
    "    estimators=estimators,\n",
    "    final_estimator=LogisticRegression(max_iter=2000),\n",
    "    cv=5\n",
    ")\n",
    "\n",
    "# Create voting classifier\n",
    "voting = VotingClassifier(\n",
    "    estimators=estimators,\n",
    "    voting='soft'\n",
    ")\n",
    "\n",
    "# Fit both models\n",
    "stacking.fit(X_train, Y_train)\n",
    "voting.fit(X_train, Y_train)\n",
    "\n",
    "# Make predictions\n",
    "stacking_pred = stacking.predict(X_test)\n",
    "voting_pred = voting.predict(X_test)\n",
    "\n",
    "# Print results\n",
    "print(\"Stacking Results:\")\n",
    "print(classification_report(Y_test, stacking_pred))\n",
    "\n",
    "print(\"\\nVoting Results:\")\n",
    "print(classification_report(Y_test, voting_pred))\n",
    "\n",
    "# Visualize results\n",
    "fig, (ax1, ax2) = plt.subplots(1, 2, figsize=(20, 8))\n",
    "\n",
    "# Plot confusion matrices\n",
    "sns.heatmap(confusion_matrix(Y_test, stacking_pred), \n",
    "            annot=True, fmt='d', ax=ax1, cmap='Blues')\n",
    "ax1.set_title('Stacking Classifier Confusion Matrix')\n",
    "ax1.set_xlabel('Predicted Label')\n",
    "ax1.set_ylabel('True Label')\n",
    "\n",
    "sns.heatmap(confusion_matrix(Y_test, voting_pred), \n",
    "            annot=True, fmt='d', ax=ax2, cmap='Blues')\n",
    "ax2.set_title('Voting Classifier Confusion Matrix')\n",
    "ax2.set_xlabel('Predicted Label')\n",
    "ax2.set_ylabel('True Label')\n",
    "\n",
    "plt.tight_layout()\n",
    "plt.show()"
   ]
  }
 ],
 "metadata": {
  "kernelspec": {
   "display_name": ".venv",
   "language": "python",
   "name": "python3"
  },
  "language_info": {
   "codemirror_mode": {
    "name": "ipython",
    "version": 3
   },
   "file_extension": ".py",
   "mimetype": "text/x-python",
   "name": "python",
   "nbconvert_exporter": "python",
   "pygments_lexer": "ipython3",
   "version": "3.12.4"
  }
 },
 "nbformat": 4,
 "nbformat_minor": 2
}
