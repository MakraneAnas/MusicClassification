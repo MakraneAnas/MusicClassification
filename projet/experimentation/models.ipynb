{
 "cells": [
  {
   "cell_type": "code",
   "execution_count": 2,
   "metadata": {},
   "outputs": [],
   "source": [
    "import numpy as np\n",
    "import pandas as pd\n",
    "from sklearn.model_selection import train_test_split, cross_val_score\n",
    "from sklearn.preprocessing import RobustScaler\n",
    "from sklearn.metrics import classification_report, confusion_matrix\n",
    "import seaborn as sns"
   ]
  },
  {
   "cell_type": "markdown",
   "metadata": {},
   "source": [
    "## first lets try using all the scaled features and see if the models do well"
   ]
  },
  {
   "cell_type": "code",
   "execution_count": 3,
   "metadata": {},
   "outputs": [],
   "source": [
    "df = pd.read_csv('music_features_scaled.csv').drop(columns=['chromagram'])\n",
    "X = df.drop(columns=['genre'])\n",
    "Y = df['genre']\n",
    "\n",
    "X_train, X_test, Y_train, Y_test = train_test_split(X, Y, test_size=0.2, random_state=42)\n"
   ]
  },
  {
   "cell_type": "code",
   "execution_count": 4,
   "metadata": {},
   "outputs": [
    {
     "name": "stdout",
     "output_type": "stream",
     "text": [
      "(799, 50)\n",
      "(200, 50)\n"
     ]
    }
   ],
   "source": [
    "# sizes of X_train and X_test\n",
    "print(X_train.shape)\n",
    "print(X_test.shape)"
   ]
  },
  {
   "cell_type": "markdown",
   "metadata": {},
   "source": [
    "## Random Forest"
   ]
  },
  {
   "cell_type": "code",
   "execution_count": 5,
   "metadata": {},
   "outputs": [
    {
     "name": "stdout",
     "output_type": "stream",
     "text": [
      "Random Forest Results:\n",
      "              precision    recall  f1-score   support\n",
      "\n",
      "       blues       0.67      0.86      0.75        21\n",
      "   classical       0.59      0.83      0.69        12\n",
      "     country       0.73      0.46      0.56        24\n",
      "       disco       0.88      0.95      0.91        22\n",
      "      hiphop       0.82      0.60      0.69        15\n",
      "        jazz       0.74      0.63      0.68        27\n",
      "       metal       0.78      1.00      0.88        18\n",
      "         pop       0.79      1.00      0.88        19\n",
      "      reggae       0.85      0.77      0.81        22\n",
      "        rock       0.69      0.55      0.61        20\n",
      "\n",
      "    accuracy                           0.76       200\n",
      "   macro avg       0.75      0.77      0.75       200\n",
      "weighted avg       0.76      0.76      0.75       200\n",
      "\n"
     ]
    }
   ],
   "source": [
    "from sklearn.ensemble import RandomForestClassifier\n",
    "\n",
    "rf_model = RandomForestClassifier(n_estimators=600, random_state=42)\n",
    "rf_model.fit(X_train, Y_train)\n",
    "rf_pred = rf_model.predict(X_test)\n",
    "\n",
    "print(\"Random Forest Results:\")\n",
    "print(classification_report(Y_test, rf_pred))"
   ]
  },
  {
   "cell_type": "code",
   "execution_count": null,
   "metadata": {},
   "outputs": [],
   "source": [
    "# grid search for best parameters for random forest\n",
    "from sklearn.model_selection import GridSearchCV\n",
    "\n",
    "param_grid = {\n",
    "    'n_estimators': [100, 200, 300, 400],\n",
    "    'max_features': ['auto', 'sqrt', 'log2', None],\n",
    "    'max_depth': [10, 20, 30, 40],\n",
    "    'min_samples_split': [2, 5, 10],\n",
    "    'min_samples_leaf': [1, 2, 4],\n",
    "    'bootstrap': [True, False]\n",
    "}\n",
    "\n",
    "grid_search = GridSearchCV(estimator=rf_model, param_grid=param_grid, cv=3, n_jobs=-1, verbose=2)\n",
    "grid_search.fit(X_train, Y_train)\n",
    "\n",
    "print(\"Best parameters for Random Forest:\")\n",
    "print(grid_search.best_params_)\n",
    "print(\"Best score for Random Forest:\")\n",
    "print(grid_search.best_score_)\n",
    "print(\"Best estimator for Random Forest:\")\n",
    "print(grid_search.best_estimator_)\n",
    "\n"
   ]
  },
  {
   "cell_type": "markdown",
   "metadata": {},
   "source": [
    "### Best parameters for Random Forest:\n",
    "{'bootstrap': False, 'max_depth': 10, 'max_features': 'sqrt', 'min_samples_leaf': 1, 'min_samples_split': 2, 'n_estimators': 400}\n",
    "Best score for Random Forest:\n",
    "0.7484206771610674\n",
    "Best estimator for Random Forest:\n",
    "RandomForestClassifier(bootstrap=False, max_depth=10, n_estimators=400,\n",
    "                       random_state=42)"
   ]
  },
  {
   "cell_type": "code",
   "execution_count": 7,
   "metadata": {},
   "outputs": [
    {
     "name": "stdout",
     "output_type": "stream",
     "text": [
      "Random Forest Best Results:\n",
      "              precision    recall  f1-score   support\n",
      "\n",
      "       blues       0.69      0.86      0.77        21\n",
      "   classical       0.61      0.92      0.73        12\n",
      "     country       0.71      0.42      0.53        24\n",
      "       disco       0.80      0.91      0.85        22\n",
      "      hiphop       0.80      0.53      0.64        15\n",
      "        jazz       0.68      0.63      0.65        27\n",
      "       metal       0.78      1.00      0.88        18\n",
      "         pop       0.75      0.95      0.84        19\n",
      "      reggae       0.94      0.77      0.85        22\n",
      "        rock       0.59      0.50      0.54        20\n",
      "\n",
      "    accuracy                           0.73       200\n",
      "   macro avg       0.74      0.75      0.73       200\n",
      "weighted avg       0.74      0.73      0.72       200\n",
      "\n"
     ]
    }
   ],
   "source": [
    "# best random forest model\n",
    "\n",
    "rf_model_best = RandomForestClassifier(bootstrap=False, max_depth=10, n_estimators=400, min_samples_leaf=1, max_features='sqrt', min_samples_split=2,\n",
    "                       random_state=42)\n",
    "rf_model_best.fit(X_train, Y_train)\n",
    "rf_pred_best = rf_model_best.predict(X_test)\n",
    "\n",
    "print(\"Random Forest Best Results:\")\n",
    "print(classification_report(Y_test, rf_pred_best))"
   ]
  },
  {
   "cell_type": "markdown",
   "metadata": {},
   "source": [
    "## SVM"
   ]
  },
  {
   "cell_type": "code",
   "execution_count": 8,
   "metadata": {},
   "outputs": [
    {
     "name": "stdout",
     "output_type": "stream",
     "text": [
      "SVM Results:\n",
      "              precision    recall  f1-score   support\n",
      "\n",
      "       blues       0.36      0.43      0.39        21\n",
      "   classical       0.79      0.92      0.85        12\n",
      "     country       0.53      0.38      0.44        24\n",
      "       disco       0.47      0.32      0.38        22\n",
      "      hiphop       0.67      0.40      0.50        15\n",
      "        jazz       0.58      0.70      0.63        27\n",
      "       metal       0.69      1.00      0.82        18\n",
      "         pop       0.48      0.84      0.62        19\n",
      "      reggae       0.82      0.64      0.72        22\n",
      "        rock       0.55      0.30      0.39        20\n",
      "\n",
      "    accuracy                           0.57       200\n",
      "   macro avg       0.59      0.59      0.57       200\n",
      "weighted avg       0.58      0.57      0.56       200\n",
      "\n"
     ]
    }
   ],
   "source": [
    "from sklearn.svm import SVC\n",
    "\n",
    "svm_model = SVC(kernel='rbf', random_state=42)\n",
    "svm_model.fit(X_train, Y_train)\n",
    "svm_pred = svm_model.predict(X_test)\n",
    "\n",
    "print(\"SVM Results:\")\n",
    "print(classification_report(Y_test, svm_pred))"
   ]
  },
  {
   "cell_type": "code",
   "execution_count": 9,
   "metadata": {},
   "outputs": [
    {
     "name": "stdout",
     "output_type": "stream",
     "text": [
      "SVM Results:\n",
      "              precision    recall  f1-score   support\n",
      "\n",
      "       blues       0.43      0.14      0.21        21\n",
      "   classical       0.80      0.67      0.73        12\n",
      "     country       0.31      0.46      0.37        24\n",
      "       disco       0.54      0.32      0.40        22\n",
      "      hiphop       1.00      0.20      0.33        15\n",
      "        jazz       0.64      0.33      0.44        27\n",
      "       metal       0.74      0.78      0.76        18\n",
      "         pop       0.74      0.74      0.74        19\n",
      "      reggae       0.90      0.41      0.56        22\n",
      "        rock       0.19      0.65      0.29        20\n",
      "\n",
      "    accuracy                           0.46       200\n",
      "   macro avg       0.63      0.47      0.48       200\n",
      "weighted avg       0.61      0.46      0.47       200\n",
      "\n"
     ]
    }
   ],
   "source": [
    "svm_model = SVC(kernel='poly', random_state=42)\n",
    "svm_model.fit(X_train, Y_train)\n",
    "svm_pred = svm_model.predict(X_test)\n",
    "\n",
    "print(\"SVM Results:\")\n",
    "print(classification_report(Y_test, svm_pred))"
   ]
  },
  {
   "cell_type": "markdown",
   "metadata": {},
   "source": [
    "# XGBOOST"
   ]
  },
  {
   "cell_type": "code",
   "execution_count": 10,
   "metadata": {},
   "outputs": [
    {
     "name": "stdout",
     "output_type": "stream",
     "text": [
      "XGBoost Results:\n",
      "              precision    recall  f1-score   support\n",
      "\n",
      "       blues       0.54      0.71      0.61        21\n",
      "   classical       0.63      1.00      0.77        12\n",
      "     country       0.63      0.50      0.56        24\n",
      "       disco       0.81      0.77      0.79        22\n",
      "      hiphop       0.75      0.60      0.67        15\n",
      "        jazz       0.71      0.63      0.67        27\n",
      "       metal       0.82      1.00      0.90        18\n",
      "         pop       0.83      1.00      0.90        19\n",
      "      reggae       0.89      0.73      0.80        22\n",
      "        rock       0.79      0.55      0.65        20\n",
      "\n",
      "    accuracy                           0.73       200\n",
      "   macro avg       0.74      0.75      0.73       200\n",
      "weighted avg       0.74      0.73      0.72       200\n",
      "\n"
     ]
    }
   ],
   "source": [
    "from xgboost import XGBClassifier\n",
    "from sklearn.preprocessing import LabelEncoder\n",
    "import matplotlib.pyplot as plt\n",
    "\n",
    "# First encode the labels\n",
    "label_encoder = LabelEncoder()\n",
    "y_train_encoded = label_encoder.fit_transform(Y_train)\n",
    "y_test_encoded = label_encoder.transform(Y_test)\n",
    "\n",
    "# Now create and train the model\n",
    "xgb_model = XGBClassifier(random_state=42)\n",
    "xgb_model.fit(X_train, y_train_encoded)\n",
    "xgb_pred = xgb_model.predict(X_test)\n",
    "\n",
    "# Convert predictions back to genre names for the classification report\n",
    "xgb_pred_decoded = label_encoder.inverse_transform(xgb_pred)\n",
    "\n",
    "print(\"XGBoost Results:\")\n",
    "print(classification_report(Y_test, xgb_pred_decoded))\n"
   ]
  },
  {
   "cell_type": "markdown",
   "metadata": {},
   "source": [
    "# Let's use the most important features only "
   ]
  },
  {
   "cell_type": "code",
   "execution_count": 11,
   "metadata": {},
   "outputs": [],
   "source": [
    "df_2 = pd.read_csv('top_features_scaled.csv')\n",
    "X = df_2.drop(columns=['genre'])\n",
    "Y = df_2['genre']\n",
    "\n",
    "X_train, X_test, Y_train, Y_test = train_test_split(X, Y, test_size=0.2, random_state=42)\n"
   ]
  },
  {
   "cell_type": "code",
   "execution_count": 12,
   "metadata": {},
   "outputs": [
    {
     "name": "stdout",
     "output_type": "stream",
     "text": [
      "Random Forest Results:\n",
      "              precision    recall  f1-score   support\n",
      "\n",
      "       blues       0.55      0.76      0.64        21\n",
      "   classical       0.71      0.83      0.77        12\n",
      "     country       0.42      0.33      0.37        24\n",
      "       disco       0.62      0.45      0.53        22\n",
      "      hiphop       0.54      0.47      0.50        15\n",
      "        jazz       0.75      0.56      0.64        27\n",
      "       metal       0.72      1.00      0.84        18\n",
      "         pop       0.78      0.74      0.76        19\n",
      "      reggae       0.60      0.68      0.64        22\n",
      "        rock       0.43      0.45      0.44        20\n",
      "\n",
      "    accuracy                           0.61       200\n",
      "   macro avg       0.61      0.63      0.61       200\n",
      "weighted avg       0.61      0.61      0.60       200\n",
      "\n"
     ]
    }
   ],
   "source": [
    "rf_model_2 = RandomForestClassifier(n_estimators=600, random_state=42)\n",
    "rf_model_2.fit(X_train, Y_train)\n",
    "rf_pred = rf_model_2.predict(X_test)\n",
    "\n",
    "print(\"Random Forest Results:\")\n",
    "print(classification_report(Y_test, rf_pred))"
   ]
  },
  {
   "cell_type": "code",
   "execution_count": null,
   "metadata": {},
   "outputs": [],
   "source": [
    "param_grid = {\n",
    "    'n_estimators': [100, 200, 300, 400],\n",
    "    'max_features': ['auto', 'sqrt', 'log2', None],\n",
    "    'max_depth': [10, 20, 30, 40],\n",
    "    'min_samples_split': [2, 5, 10],\n",
    "    'min_samples_leaf': [1, 2, 4],\n",
    "    'bootstrap': [True, False]\n",
    "}\n",
    "\n",
    "grid_search = GridSearchCV(estimator=rf_model_2, param_grid=param_grid, cv=3, n_jobs=-1, verbose=2)\n",
    "grid_search.fit(X_train, Y_train)\n",
    "\n",
    "print(\"Best parameters for Random Forest:\")\n",
    "print(grid_search.best_params_)\n",
    "print(\"Best score for Random Forest:\")\n",
    "print(grid_search.best_score_)\n",
    "print(\"Best estimator for Random Forest:\")\n",
    "print(grid_search.best_estimator_)"
   ]
  },
  {
   "cell_type": "markdown",
   "metadata": {},
   "source": [
    "### Best parameters for Random Forest:\n",
    "{'bootstrap': True, 'max_depth': 10, 'max_features': 'sqrt', 'min_samples_leaf': 2, 'min_samples_split': 5, 'n_estimators': 300}\n",
    "Best score for Random Forest:\n",
    "0.5694902049130316\n",
    "Best estimator for Random Forest:\n",
    "RandomForestClassifier(max_depth=10, min_samples_leaf=2, min_samples_split=5,\n",
    "                       n_estimators=300, random_state=42)"
   ]
  },
  {
   "cell_type": "code",
   "execution_count": 14,
   "metadata": {},
   "outputs": [
    {
     "name": "stdout",
     "output_type": "stream",
     "text": [
      "Random Forest Best Results:\n",
      "              precision    recall  f1-score   support\n",
      "\n",
      "       blues       0.58      0.71      0.64        21\n",
      "   classical       0.62      0.83      0.71        12\n",
      "     country       0.42      0.33      0.37        24\n",
      "       disco       0.59      0.45      0.51        22\n",
      "      hiphop       0.50      0.47      0.48        15\n",
      "        jazz       0.70      0.59      0.64        27\n",
      "       metal       0.63      0.94      0.76        18\n",
      "         pop       0.78      0.74      0.76        19\n",
      "      reggae       0.60      0.68      0.64        22\n",
      "        rock       0.40      0.30      0.34        20\n",
      "\n",
      "    accuracy                           0.59       200\n",
      "   macro avg       0.58      0.61      0.59       200\n",
      "weighted avg       0.58      0.59      0.58       200\n",
      "\n"
     ]
    }
   ],
   "source": [
    "# best random forest model\n",
    "\n",
    "rf_model_best_2 = RandomForestClassifier(bootstrap=True, max_depth=10, n_estimators=300, min_samples_leaf=2, max_features='sqrt', min_samples_split=5, random_state=42)\n",
    "\n",
    "rf_model_best_2.fit(X_train, Y_train)\n",
    "rf_pred_best = rf_model_best_2.predict(X_test)\n",
    "\n",
    "print(\"Random Forest Best Results:\")\n",
    "print(classification_report(Y_test, rf_pred_best))"
   ]
  },
  {
   "cell_type": "code",
   "execution_count": 15,
   "metadata": {},
   "outputs": [
    {
     "name": "stdout",
     "output_type": "stream",
     "text": [
      "SVM Results:\n",
      "              precision    recall  f1-score   support\n",
      "\n",
      "       blues       0.59      0.48      0.53        21\n",
      "   classical       0.67      0.83      0.74        12\n",
      "     country       0.83      0.21      0.33        24\n",
      "       disco       0.50      0.32      0.39        22\n",
      "      hiphop       0.80      0.27      0.40        15\n",
      "        jazz       0.70      0.26      0.38        27\n",
      "       metal       0.81      0.72      0.76        18\n",
      "         pop       0.82      0.74      0.78        19\n",
      "      reggae       0.64      0.41      0.50        22\n",
      "        rock       0.21      0.90      0.34        20\n",
      "\n",
      "    accuracy                           0.48       200\n",
      "   macro avg       0.66      0.51      0.51       200\n",
      "weighted avg       0.65      0.48      0.50       200\n",
      "\n"
     ]
    }
   ],
   "source": [
    "svm_model_2 = SVC(kernel='poly', random_state=42)\n",
    "svm_model_2.fit(X_train, Y_train)\n",
    "svm_pred = svm_model_2.predict(X_test)\n",
    "\n",
    "print(\"SVM Results:\")\n",
    "print(classification_report(Y_test, svm_pred))"
   ]
  },
  {
   "cell_type": "code",
   "execution_count": 16,
   "metadata": {},
   "outputs": [
    {
     "name": "stdout",
     "output_type": "stream",
     "text": [
      "XGBoost Results:\n",
      "              precision    recall  f1-score   support\n",
      "\n",
      "       blues       0.63      0.81      0.71        21\n",
      "   classical       0.77      0.83      0.80        12\n",
      "     country       0.59      0.42      0.49        24\n",
      "       disco       0.65      0.50      0.56        22\n",
      "      hiphop       0.50      0.33      0.40        15\n",
      "        jazz       0.65      0.56      0.60        27\n",
      "       metal       0.69      1.00      0.82        18\n",
      "         pop       0.68      0.68      0.68        19\n",
      "      reggae       0.63      0.77      0.69        22\n",
      "        rock       0.38      0.40      0.39        20\n",
      "\n",
      "    accuracy                           0.62       200\n",
      "   macro avg       0.62      0.63      0.61       200\n",
      "weighted avg       0.61      0.62      0.61       200\n",
      "\n"
     ]
    }
   ],
   "source": [
    "# xgboost\n",
    "y_train_encoded = label_encoder.fit_transform(Y_train)\n",
    "y_test_encoded = label_encoder.transform(Y_test)\n",
    "\n",
    "# Now create and train the model\n",
    "xgb_model_2 = XGBClassifier(random_state=42)\n",
    "xgb_model_2.fit(X_train, y_train_encoded)\n",
    "xgb_pred = xgb_model_2.predict(X_test)\n",
    "\n",
    "# Convert predictions back to genre names for the classification report\n",
    "xgb_pred_decoded = label_encoder.inverse_transform(xgb_pred)\n",
    "\n",
    "print(\"XGBoost Results:\")\n",
    "print(classification_report(Y_test, xgb_pred_decoded))"
   ]
  },
  {
   "cell_type": "markdown",
   "metadata": {},
   "source": [
    "# Stacking\n"
   ]
  },
  {
   "cell_type": "code",
   "execution_count": 17,
   "metadata": {},
   "outputs": [],
   "source": [
    "def plot_confusion_matrix(y_true, y_pred, model_name):\n",
    "    plt.figure(figsize=(10, 8))\n",
    "    cm = confusion_matrix(y_true, y_pred)\n",
    "    sns.heatmap(cm, annot=True, fmt='d', cmap='Blues',\n",
    "                xticklabels=np.unique(y), \n",
    "                yticklabels=np.unique(y))\n",
    "    plt.title(f'Confusion Matrix - {model_name}')\n",
    "    plt.xlabel('Predicted')\n",
    "    plt.ylabel('True')\n",
    "    plt.tight_layout()\n",
    "    plt.show()"
   ]
  },
  {
   "cell_type": "markdown",
   "metadata": {},
   "source": [
    "### Best parameters for Random Forest:\n",
    "{'bootstrap': False, 'max_depth': 10, 'max_features': 'sqrt', 'min_samples_leaf': 1, 'min_samples_split': 2, 'n_estimators': 400}\n",
    "Best score for Random Forest:\n",
    "0.7484206771610674\n",
    "Best estimator for Random Forest:\n",
    "RandomForestClassifier(bootstrap=False, max_depth=10, n_estimators=400,\n",
    "                       random_state=42)"
   ]
  },
  {
   "cell_type": "code",
   "execution_count": 36,
   "metadata": {},
   "outputs": [
    {
     "name": "stdout",
     "output_type": "stream",
     "text": [
      "Stacking Results:\n",
      "              precision    recall  f1-score   support\n",
      "\n",
      "       blues       0.63      0.81      0.71        21\n",
      "   classical       0.77      0.83      0.80        12\n",
      "     country       0.50      0.58      0.54        24\n",
      "       disco       0.60      0.55      0.57        22\n",
      "      hiphop       0.62      0.33      0.43        15\n",
      "        jazz       0.62      0.56      0.59        27\n",
      "       metal       0.69      1.00      0.82        18\n",
      "         pop       0.68      0.68      0.68        19\n",
      "      reggae       0.65      0.77      0.71        22\n",
      "        rock       0.44      0.20      0.28        20\n",
      "\n",
      "    accuracy                           0.62       200\n",
      "   macro avg       0.62      0.63      0.61       200\n",
      "weighted avg       0.61      0.62      0.61       200\n",
      "\n"
     ]
    }
   ],
   "source": [
    "from sklearn.ensemble import StackingClassifier\n",
    "from sklearn.model_selection import cross_val_score\n",
    "from sklearn.linear_model import LogisticRegression\n",
    "\n",
    "# First, encode labels for XGBoost\n",
    "label_encoder = LabelEncoder()\n",
    "y_train_encoded = label_encoder.fit_transform(Y_train)\n",
    "y_test_encoded = label_encoder.transform(Y_test)\n",
    "\n",
    "# Define base models\n",
    "rf = RandomForestClassifier(bootstrap=False, max_depth=10, n_estimators=400, \n",
    "                           min_samples_leaf=1, max_features='sqrt', \n",
    "                           min_samples_split=2, random_state=42)\n",
    "                           \n",
    "xgb = XGBClassifier(random_state=42)\n",
    "\n",
    "# Train base models\n",
    "rf.fit(X_train, Y_train)\n",
    "xgb.fit(X_train, y_train_encoded)\n",
    "\n",
    "# Get predictions\n",
    "rf_pred = rf.predict_proba(X_test)\n",
    "xgb_pred = xgb.predict_proba(X_test)\n",
    "\n",
    "# Combine predictions for meta-features\n",
    "meta_features = np.column_stack((rf_pred, xgb_pred))\n",
    "\n",
    "# Train meta-classifier\n",
    "meta_clf = LogisticRegression(random_state=42)\n",
    "meta_clf.fit(meta_features, Y_test)\n",
    "\n",
    "# Make final predictions\n",
    "final_pred = meta_clf.predict(meta_features)\n",
    "\n",
    "# Print results\n",
    "print(\"Stacking Results:\")\n",
    "print(classification_report(Y_test, final_pred))"
   ]
  },
  {
   "cell_type": "code",
   "execution_count": 37,
   "metadata": {},
   "outputs": [
    {
     "data": {
      "image/png": "[encoded data removed]",
      "text/plain": [
       "<Figure size 1000x800 with 2 Axes>"
      ]
     },
     "metadata": {},
     "output_type": "display_data"
    }
   ],
   "source": [
    "def plot_confusion_matrix(y_true, y_pred, model_name):\n",
    "    plt.figure(figsize=(10, 8))\n",
    "    cm = confusion_matrix(y_true, y_pred)\n",
    "    labels = ['blues', 'classical', 'country', 'disco', 'hiphop', 'jazz', 'metal', 'pop', 'reggae', 'rock']\n",
    "    sns.heatmap(cm, annot=True, fmt='d', cmap='Greens',\n",
    "                xticklabels=labels, \n",
    "                yticklabels=labels)\n",
    "    plt.title(f'Confusion Matrix - {model_name}')\n",
    "    plt.xlabel('Predicted')\n",
    "    plt.ylabel('True')\n",
    "    plt.tight_layout()\n",
    "    plt.show()\n",
    "\n",
    "plot_confusion_matrix(Y_test, final_pred, \"Stacking Classifier\")"
   ]
  }
 ],
 "metadata": {
  "kernelspec": {
   "display_name": "3yp",
   "language": "python",
   "name": "python3"
  },
  "language_info": {
   "codemirror_mode": {
    "name": "ipython",
    "version": 3
   },
   "file_extension": ".py",
   "mimetype": "text/x-python",
   "name": "python",
   "nbconvert_exporter": "python",
   "pygments_lexer": "ipython3",
   "version": "3.12.3"
  }
 },
 "nbformat": 4,
 "nbformat_minor": 2
}
